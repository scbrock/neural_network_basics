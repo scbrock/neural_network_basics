{
 "cells": [
  {
   "cell_type": "markdown",
   "metadata": {},
   "source": [
    "# softmax derivative with neural network"
   ]
  },
  {
   "cell_type": "code",
   "execution_count": 2,
   "metadata": {},
   "outputs": [],
   "source": [
    "import pandas as pd\n",
    "import numpy as np\n",
    "import matplotlib.pyplot as plt"
   ]
  },
  {
   "cell_type": "code",
   "execution_count": null,
   "metadata": {},
   "outputs": [],
   "source": [
    "def softmax(data):\n",
    "    exp_data = np.exp(data)\n",
    "    denom = np.sum(exp_data, axis=0)\n",
    "    result = exp_data/denom\n",
    "    return result\n",
    "\n",
    "def softmaxPrime(data, targets):\n",
    "    # each column of data is a prediction\n",
    "    # each column of target is a one-hot vector\n",
    "    m, n = data.shape\n",
    "    exp_data = np.exp(data)\n",
    "    sum_data = np.sum(exp_data, axis=0)\n",
    "    denom = sum_data**2\n",
    "    add_term = exp_data * targets * sum_data # element-wise\n",
    "    constant = -1*np.sum(exp_data*targets**2,axis=0).reshape((1,n))/denom\n",
    "    result = np.repeat(constant,m,axis=0) + add_term\n",
    "    return result\n",
    "    \n",
    "    "
   ]
  },
  {
   "cell_type": "code",
   "execution_count": null,
   "metadata": {},
   "outputs": [],
   "source": [
    "# use softmax activation function\n",
    "class WordModel:\n",
    "    def __init__(self, input_dim, hidden_dim, text = None, learning_rate=0.01, epochs=10, lam = 0.5):\n",
    "        self.learning_rate = learning_rate\n",
    "        self.epochs = epochs\n",
    "        self.input_dim = input_dim\n",
    "        self.hidden_dim = hidden_dim\n",
    "        self.output_dim = input_dim\n",
    "        self.text = text\n",
    "        self.lam = lam\n",
    "        \n",
    "        # model has 2 layers, hidden and output\n",
    "        self.weights = dict()\n",
    "        self.biases = dict()\n",
    "        self.weights['L1'] = np.random.rand((hidden_dim,input_dim))\n",
    "        self.weights['L2'] = np.random.rand((input_dim,hidden_dim))\n",
    "        self.biases['L1'] = np.random.rand((hidden_dim, 1))\n",
    "        self.biases['L2'] = np.random.rand((input_dim, 1))\n",
    "        \n",
    "    def sigmoid(self, z):\n",
    "        return 1/(1+np.exp(-z))\n",
    "    \n",
    "    def sigmoidPrime(self, z):\n",
    "        oz = self.sigmoid(z)\n",
    "        return oz(1-oz)\n",
    "    \n",
    "    def softmax(self, data):\n",
    "        exp_data = np.exp(data)\n",
    "        denom = np.sum(exp_data, axis=0)\n",
    "        result = exp_data/denom\n",
    "        return result\n",
    "    \n",
    "    def softmaxPrime(self, data, targets):\n",
    "        # each column of data is a prediction\n",
    "        # each column of target is a one-hot vector\n",
    "        m, n = data.shape\n",
    "        exp_data = np.exp(data)\n",
    "        sum_data = np.sum(exp_data, axis=0)\n",
    "        denom = sum_data**2\n",
    "        add_term = exp_data * targets * sum_data # element-wise\n",
    "        constant = -1*np.sum(exp_data*targets**2,axis=0).reshape((1,n))/denom\n",
    "        result = np.repeat(constant,m,axis=0) + add_term\n",
    "        return result\n",
    "    \n",
    "    def forward(self, X, y):\n",
    "        # assume y is one-hot encoded\n",
    "        # assume columns are data points\n",
    "        # Z = WX + b\n",
    "        self.z1 = self.weights['L1']*X+self.biases['L1']\n",
    "        self.a1 = self.sigmoid(self.z1)\n",
    "        self.z2 = self.weights['L2']*self.a1+self.biases['L2']\n",
    "        result = self.softmax(self.z2)\n",
    "        \n",
    "    def backprop(self, result, targets):\n",
    "        # we will start by passing each dL/dSy to each dSy/df, but this might change moving forward (to element-wise,\n",
    "        # where we only care about element y)\n",
    "        m, n = result.shape\n",
    "        \n",
    "        Sy = np.dot(result.transpose(),targets)\n",
    "        \n",
    "        dLdSy = -1/Sy\n",
    "        dSydf = self.softmaxPrime(result, targets)\n",
    "        deltaL2 = dLdSy * dSydf/n\n",
    "        \n",
    "        # add regularization term...\n",
    "        regL2 = lam*self.weights['L2']\n",
    "        \n",
    "        dLdW2 = np.dot(deltaL2, self.z2.transpose()) +regL2\n",
    "        \n",
    "        dLdb2 = np.sum(deltaL2,axis=1)\n",
    "        \n",
    "        # get new W2, b2\n",
    "        W2_new = self.weights['L2'] + self.learning_rate*dLdW2\n",
    "        b2_new = self.biases['b2'] + self.learning_rate*dLdb2\n",
    "        \n",
    "        \n",
    "        \n",
    "        \n",
    "    "
   ]
  },
  {
   "cell_type": "code",
   "execution_count": 8,
   "metadata": {},
   "outputs": [
    {
     "name": "stdout",
     "output_type": "stream",
     "text": [
      "[[0 5 0 0]\n",
      " [5 0 0 0]\n",
      " [0 0 5 0]\n",
      " [0 0 0 5]]\n"
     ]
    }
   ],
   "source": [
    "a = np.array([\n",
    "    [0,1,0,0],\n",
    "    [1,0,0,0],\n",
    "    [0,0,1,0],\n",
    "    [0,0,0,1],\n",
    "])\n",
    "b = np.array([[5,5,5,5]])\n",
    "print(a*b)"
   ]
  },
  {
   "cell_type": "code",
   "execution_count": 9,
   "metadata": {},
   "outputs": [
    {
     "data": {
      "text/plain": [
       "array([[5, 5, 5, 5],\n",
       "       [5, 5, 5, 5]])"
      ]
     },
     "execution_count": 9,
     "metadata": {},
     "output_type": "execute_result"
    }
   ],
   "source": [
    "np.repeat(b,2,axis=0)"
   ]
  },
  {
   "cell_type": "code",
   "execution_count": null,
   "metadata": {},
   "outputs": [],
   "source": []
  }
 ],
 "metadata": {
  "kernelspec": {
   "display_name": "Python 3",
   "language": "python",
   "name": "python3"
  },
  "language_info": {
   "codemirror_mode": {
    "name": "ipython",
    "version": 3
   },
   "file_extension": ".py",
   "mimetype": "text/x-python",
   "name": "python",
   "nbconvert_exporter": "python",
   "pygments_lexer": "ipython3",
   "version": "3.6.4"
  }
 },
 "nbformat": 4,
 "nbformat_minor": 2
}
