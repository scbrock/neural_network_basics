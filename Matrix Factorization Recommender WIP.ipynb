{
 "cells": [
  {
   "cell_type": "markdown",
   "metadata": {},
   "source": [
    "# Matrix Factorization Recommender System"
   ]
  },
  {
   "cell_type": "markdown",
   "metadata": {},
   "source": [
    "### Goal:\n",
    "To create a recommender system by using gradient descent to factorize the movie ratings matrix into user and movie latent vectors."
   ]
  },
  {
   "cell_type": "markdown",
   "metadata": {},
   "source": [
    "### Data:\n",
    "The data used is the small movie lens data set. \n",
    "<br>\n",
    "https://grouplens.org/datasets/movielens/"
   ]
  },
  {
   "cell_type": "markdown",
   "metadata": {},
   "source": [
    "### Collaborative Filtering\n",
    "- create vectors for items and users from item-user interations\n",
    "\n",
    "### Content filtering\n",
    "- create vectors for items and users (e.g. using inverse word frequencies)"
   ]
  },
  {
   "cell_type": "code",
   "execution_count": 1,
   "metadata": {},
   "outputs": [],
   "source": [
    "import numpy as np\n",
    "import pandas as pd\n"
   ]
  },
  {
   "cell_type": "code",
   "execution_count": null,
   "metadata": {},
   "outputs": [],
   "source": []
  },
  {
   "cell_type": "code",
   "execution_count": 37,
   "metadata": {},
   "outputs": [
    {
     "data": {
      "text/html": [
       "<div>\n",
       "<style scoped>\n",
       "    .dataframe tbody tr th:only-of-type {\n",
       "        vertical-align: middle;\n",
       "    }\n",
       "\n",
       "    .dataframe tbody tr th {\n",
       "        vertical-align: top;\n",
       "    }\n",
       "\n",
       "    .dataframe thead th {\n",
       "        text-align: right;\n",
       "    }\n",
       "</style>\n",
       "<table border=\"1\" class=\"dataframe\">\n",
       "  <thead>\n",
       "    <tr style=\"text-align: right;\">\n",
       "      <th></th>\n",
       "      <th>userId</th>\n",
       "      <th>movieId</th>\n",
       "      <th>rating</th>\n",
       "      <th>timestamp</th>\n",
       "    </tr>\n",
       "  </thead>\n",
       "  <tbody>\n",
       "    <tr>\n",
       "      <th>0</th>\n",
       "      <td>1</td>\n",
       "      <td>1</td>\n",
       "      <td>4.0</td>\n",
       "      <td>964982703</td>\n",
       "    </tr>\n",
       "    <tr>\n",
       "      <th>1</th>\n",
       "      <td>1</td>\n",
       "      <td>3</td>\n",
       "      <td>4.0</td>\n",
       "      <td>964981247</td>\n",
       "    </tr>\n",
       "    <tr>\n",
       "      <th>2</th>\n",
       "      <td>1</td>\n",
       "      <td>6</td>\n",
       "      <td>4.0</td>\n",
       "      <td>964982224</td>\n",
       "    </tr>\n",
       "    <tr>\n",
       "      <th>3</th>\n",
       "      <td>1</td>\n",
       "      <td>47</td>\n",
       "      <td>5.0</td>\n",
       "      <td>964983815</td>\n",
       "    </tr>\n",
       "    <tr>\n",
       "      <th>4</th>\n",
       "      <td>1</td>\n",
       "      <td>50</td>\n",
       "      <td>5.0</td>\n",
       "      <td>964982931</td>\n",
       "    </tr>\n",
       "  </tbody>\n",
       "</table>\n",
       "</div>"
      ],
      "text/plain": [
       "   userId  movieId  rating  timestamp\n",
       "0       1        1     4.0  964982703\n",
       "1       1        3     4.0  964981247\n",
       "2       1        6     4.0  964982224\n",
       "3       1       47     5.0  964983815\n",
       "4       1       50     5.0  964982931"
      ]
     },
     "execution_count": 37,
     "metadata": {},
     "output_type": "execute_result"
    }
   ],
   "source": [
    "ratings = pd.read_csv('ml-latest-small/ratings.csv')\n",
    "ratings.head()"
   ]
  },
  {
   "cell_type": "code",
   "execution_count": 63,
   "metadata": {},
   "outputs": [
    {
     "name": "stdout",
     "output_type": "stream",
     "text": [
      "unique users: 610\n",
      "unique_movies: 9724\n"
     ]
    }
   ],
   "source": [
    "unique_movies = ratings['movieId'].unique()\n",
    "unique_users = ratings['userId'].unique()\n",
    "\n",
    "n_users = len(unique_users)\n",
    "n_movies = len(unique_movies)\n",
    "print('unique users:',n_users)\n",
    "print('unique_movies:',n_movies)"
   ]
  },
  {
   "cell_type": "code",
   "execution_count": 64,
   "metadata": {
    "scrolled": true
   },
   "outputs": [
    {
     "name": "stdout",
     "output_type": "stream",
     "text": [
      "610\n",
      "193609\n"
     ]
    }
   ],
   "source": [
    "print(max(unique_users))\n",
    "print(max(unique_movies))"
   ]
  },
  {
   "cell_type": "code",
   "execution_count": 66,
   "metadata": {},
   "outputs": [],
   "source": [
    "# this means we need to create a mapping from the movie id's to their positions in the matrix\n",
    "# unique users == number of users, but we will create a mapping for them too\n",
    "uid_to_idx = dict()\n",
    "mvid_to_idx = dict()\n",
    "idx_to_uid = dict()\n",
    "idx_to_mvid = dict()\n",
    "\n",
    "for i, uid in enumerate(unique_users):\n",
    "    uid_to_idx[uid] = i\n",
    "    idx_to_uid[i] = uid\n",
    "    \n",
    "for i, mvid in enumerate(unique_movies):\n",
    "    mvid_to_idx[mvid] = i\n",
    "    idx_to_mvid[i] = mvid\n",
    "    \n"
   ]
  },
  {
   "cell_type": "code",
   "execution_count": 306,
   "metadata": {},
   "outputs": [
    {
     "data": {
      "text/html": [
       "<div>\n",
       "<style scoped>\n",
       "    .dataframe tbody tr th:only-of-type {\n",
       "        vertical-align: middle;\n",
       "    }\n",
       "\n",
       "    .dataframe tbody tr th {\n",
       "        vertical-align: top;\n",
       "    }\n",
       "\n",
       "    .dataframe thead th {\n",
       "        text-align: right;\n",
       "    }\n",
       "</style>\n",
       "<table border=\"1\" class=\"dataframe\">\n",
       "  <thead>\n",
       "    <tr style=\"text-align: right;\">\n",
       "      <th></th>\n",
       "      <th>movieId</th>\n",
       "      <th>title</th>\n",
       "      <th>genres</th>\n",
       "    </tr>\n",
       "  </thead>\n",
       "  <tbody>\n",
       "    <tr>\n",
       "      <th>0</th>\n",
       "      <td>1</td>\n",
       "      <td>Toy Story (1995)</td>\n",
       "      <td>Adventure|Animation|Children|Comedy|Fantasy</td>\n",
       "    </tr>\n",
       "    <tr>\n",
       "      <th>1</th>\n",
       "      <td>2</td>\n",
       "      <td>Jumanji (1995)</td>\n",
       "      <td>Adventure|Children|Fantasy</td>\n",
       "    </tr>\n",
       "    <tr>\n",
       "      <th>2</th>\n",
       "      <td>3</td>\n",
       "      <td>Grumpier Old Men (1995)</td>\n",
       "      <td>Comedy|Romance</td>\n",
       "    </tr>\n",
       "    <tr>\n",
       "      <th>3</th>\n",
       "      <td>4</td>\n",
       "      <td>Waiting to Exhale (1995)</td>\n",
       "      <td>Comedy|Drama|Romance</td>\n",
       "    </tr>\n",
       "    <tr>\n",
       "      <th>4</th>\n",
       "      <td>5</td>\n",
       "      <td>Father of the Bride Part II (1995)</td>\n",
       "      <td>Comedy</td>\n",
       "    </tr>\n",
       "  </tbody>\n",
       "</table>\n",
       "</div>"
      ],
      "text/plain": [
       "   movieId                               title  \\\n",
       "0        1                    Toy Story (1995)   \n",
       "1        2                      Jumanji (1995)   \n",
       "2        3             Grumpier Old Men (1995)   \n",
       "3        4            Waiting to Exhale (1995)   \n",
       "4        5  Father of the Bride Part II (1995)   \n",
       "\n",
       "                                        genres  \n",
       "0  Adventure|Animation|Children|Comedy|Fantasy  \n",
       "1                   Adventure|Children|Fantasy  \n",
       "2                               Comedy|Romance  \n",
       "3                         Comedy|Drama|Romance  \n",
       "4                                       Comedy  "
      ]
     },
     "execution_count": 306,
     "metadata": {},
     "output_type": "execute_result"
    }
   ],
   "source": [
    "# create mapping from mvid to movie name\n",
    "movie_df = pd.read_csv('ml-latest-small/movies.csv')\n",
    "movie_df.head()"
   ]
  },
  {
   "cell_type": "code",
   "execution_count": 309,
   "metadata": {},
   "outputs": [],
   "source": [
    "titles = movie_df['title'].values\n",
    "mvids = movie_df['movieId'].values\n",
    "n_vids = len(mvids)\n",
    "mvid_to_title = dict()\n",
    "\n",
    "for i in range(n_vids):\n",
    "    mvid_to_title[mvids[i]] = titles[i] \n",
    "\n"
   ]
  },
  {
   "cell_type": "code",
   "execution_count": 45,
   "metadata": {},
   "outputs": [],
   "source": [
    "# Assume user-movie non-interaction is a 0 rating\n",
    "np_data = np.zeros((n_users, n_movies))"
   ]
  },
  {
   "cell_type": "code",
   "execution_count": 46,
   "metadata": {},
   "outputs": [
    {
     "data": {
      "text/plain": [
       "(610, 9724)"
      ]
     },
     "execution_count": 46,
     "metadata": {},
     "output_type": "execute_result"
    }
   ],
   "source": [
    "np_data.shape"
   ]
  },
  {
   "cell_type": "code",
   "execution_count": 47,
   "metadata": {},
   "outputs": [
    {
     "data": {
      "text/plain": [
       "0.0"
      ]
     },
     "execution_count": 47,
     "metadata": {},
     "output_type": "execute_result"
    }
   ],
   "source": [
    "np_data[0][0]"
   ]
  },
  {
   "cell_type": "code",
   "execution_count": null,
   "metadata": {},
   "outputs": [],
   "source": []
  },
  {
   "cell_type": "code",
   "execution_count": 51,
   "metadata": {},
   "outputs": [
    {
     "name": "stdout",
     "output_type": "stream",
     "text": [
      "[0. 0. 0. ... 0. 0. 0.]\n",
      "0.0\n"
     ]
    }
   ],
   "source": [
    "print(np_data[0])\n",
    "print(np_data[0][0])"
   ]
  },
  {
   "cell_type": "code",
   "execution_count": 54,
   "metadata": {},
   "outputs": [
    {
     "data": {
      "text/html": [
       "<div>\n",
       "<style scoped>\n",
       "    .dataframe tbody tr th:only-of-type {\n",
       "        vertical-align: middle;\n",
       "    }\n",
       "\n",
       "    .dataframe tbody tr th {\n",
       "        vertical-align: top;\n",
       "    }\n",
       "\n",
       "    .dataframe thead th {\n",
       "        text-align: right;\n",
       "    }\n",
       "</style>\n",
       "<table border=\"1\" class=\"dataframe\">\n",
       "  <thead>\n",
       "    <tr style=\"text-align: right;\">\n",
       "      <th></th>\n",
       "      <th>userId</th>\n",
       "      <th>movieId</th>\n",
       "      <th>rating</th>\n",
       "      <th>timestamp</th>\n",
       "    </tr>\n",
       "  </thead>\n",
       "  <tbody>\n",
       "  </tbody>\n",
       "</table>\n",
       "</div>"
      ],
      "text/plain": [
       "Empty DataFrame\n",
       "Columns: [userId, movieId, rating, timestamp]\n",
       "Index: []"
      ]
     },
     "execution_count": 54,
     "metadata": {},
     "output_type": "execute_result"
    }
   ],
   "source": [
    "user_i"
   ]
  },
  {
   "cell_type": "code",
   "execution_count": 215,
   "metadata": {},
   "outputs": [],
   "source": [
    "# populate the data\n",
    "for i in range(n_users):\n",
    "    uid = idx_to_uid.get(i)\n",
    "    # get all movieId\n",
    "    user_i = ratings[ratings['userId'] == uid]\n",
    "    movies = user_i['movieId'].values\n",
    "    rates = user_i['rating'].values\n",
    "    for k,j in enumerate(movies):\n",
    "        mv_idx = mvid_to_idx.get(j)\n",
    "        np_data[i][mv_idx] = rates[k]\n",
    "        \n",
    "np_data /= 5\n",
    "\n",
    "        \n",
    "        \n",
    "        "
   ]
  },
  {
   "cell_type": "code",
   "execution_count": 216,
   "metadata": {},
   "outputs": [
    {
     "data": {
      "text/plain": [
       "array([4. , 5. , 3. , 2. , 1. , 4.5, 3.5, 2.5, 0.5, 1.5])"
      ]
     },
     "execution_count": 216,
     "metadata": {},
     "output_type": "execute_result"
    }
   ],
   "source": [
    "# print ratings\n",
    "ratings['rating'].unique()\n",
    "# 0.5 to 5 increasing by 0.5"
   ]
  },
  {
   "cell_type": "code",
   "execution_count": 217,
   "metadata": {},
   "outputs": [
    {
     "data": {
      "text/plain": [
       "array([[8.00000000e-01, 8.00000000e-01, 8.00000000e-01, ...,\n",
       "        0.00000000e+00, 0.00000000e+00, 0.00000000e+00],\n",
       "       [0.00000000e+00, 0.00000000e+00, 0.00000000e+00, ...,\n",
       "        0.00000000e+00, 0.00000000e+00, 0.00000000e+00],\n",
       "       [0.00000000e+00, 0.00000000e+00, 0.00000000e+00, ...,\n",
       "        0.00000000e+00, 0.00000000e+00, 0.00000000e+00],\n",
       "       ...,\n",
       "       [5.00000000e-01, 4.00000000e-01, 1.09951163e-27, ...,\n",
       "        0.00000000e+00, 0.00000000e+00, 0.00000000e+00],\n",
       "       [6.00000000e-01, 0.00000000e+00, 0.00000000e+00, ...,\n",
       "        0.00000000e+00, 0.00000000e+00, 0.00000000e+00],\n",
       "       [1.00000000e+00, 0.00000000e+00, 1.00000000e+00, ...,\n",
       "        6.00000000e-01, 7.00000000e-01, 7.00000000e-01]])"
      ]
     },
     "execution_count": 217,
     "metadata": {},
     "output_type": "execute_result"
    }
   ],
   "source": [
    "np_data"
   ]
  },
  {
   "cell_type": "code",
   "execution_count": 218,
   "metadata": {},
   "outputs": [],
   "source": [
    "# example from: https://towardsdatascience.com/paper-summary-matrix-factorization-techniques-for-recommender-systems-82d1a7ace74\n",
    "ans = np.array([\n",
    "    [0,4.5,2,0],\n",
    "    [4,0,3.5,0],\n",
    "    [0,5,0,2],\n",
    "    [0,3.5,4,1]\n",
    "])\n",
    "\n",
    "mat_a = np.array([\n",
    "    [1.2, 0.8],\n",
    "    [1.4,0.9],\n",
    "    [1.5,1],\n",
    "    [1.2,0.8]\n",
    "])\n",
    "\n",
    "mat_b = np.array([\n",
    "    [1.5,1.2,1,0.8],\n",
    "    [1.7,0.6,1.1,0.4]\n",
    "])\n",
    "\n"
   ]
  },
  {
   "cell_type": "code",
   "execution_count": 219,
   "metadata": {},
   "outputs": [
    {
     "data": {
      "text/plain": [
       "array([[3.16, 1.92, 2.08, 1.28],\n",
       "       [3.63, 2.22, 2.39, 1.48],\n",
       "       [3.95, 2.4 , 2.6 , 1.6 ],\n",
       "       [3.16, 1.92, 2.08, 1.28]])"
      ]
     },
     "execution_count": 219,
     "metadata": {},
     "output_type": "execute_result"
    }
   ],
   "source": [
    "np.dot(mat_a,mat_b)"
   ]
  },
  {
   "cell_type": "code",
   "execution_count": 401,
   "metadata": {},
   "outputs": [],
   "source": [
    "# each user has a bias, each movie has a bias\n",
    "# convert ratings to [0,1]\n",
    "# start with 10 latent features \n",
    "\n",
    "\n",
    "m_biases = np.random.rand(1, n_movies)\n",
    "u_biases = np.random.rand(n_users, 1)\n",
    "\n",
    "latent_dim = 100\n",
    "\n",
    "targets = np_data\n",
    "\n",
    "lam = 0.0  # regularization parameter\n",
    "alpha = 0.00003 # learning parameter\n",
    "epsilon = 10e-7\n",
    "stop_thrsh = 0.01\n"
   ]
  },
  {
   "cell_type": "code",
   "execution_count": 402,
   "metadata": {},
   "outputs": [
    {
     "name": "stdout",
     "output_type": "stream",
     "text": [
      "iteration: 0\n",
      "sum squared error: 112523894.21913151\n",
      "rmse: 25.65826021719567\n",
      "max change: 78331.64008129893\n",
      "iteration: 20\n",
      "sum squared error: 1192721.675629086\n",
      "rmse: 2.6416445754792743\n",
      "max change: 1083.9031790770741\n",
      "iteration: 40\n",
      "sum squared error: 689025.6214556898\n",
      "rmse: 2.007809543237851\n",
      "max change: 317.2872902147101\n",
      "iteration: 60\n",
      "sum squared error: 470200.8655846222\n",
      "rmse: 1.658618635182307\n",
      "max change: 10678.634511541546\n",
      "iteration: 80\n",
      "sum squared error: 350496.9293895232\n",
      "rmse: 1.432012922879874\n",
      "max change: 221.13733331674322\n",
      "iteration: 100\n",
      "sum squared error: 276322.50480496866\n",
      "rmse: 1.2714900234681856\n",
      "max change: 215.90371710980799\n",
      "iteration: 120\n",
      "sum squared error: 226565.29728545604\n",
      "rmse: 1.1513345131230197\n",
      "max change: 761.8540118950166\n",
      "iteration: 140\n",
      "sum squared error: 191268.00738937597\n",
      "rmse: 1.0578546395265\n",
      "max change: 3772.5317205113215\n",
      "iteration: 160\n",
      "sum squared error: 165150.62503798172\n",
      "rmse: 0.9829805830417364\n",
      "max change: 30.09922511688681\n",
      "iteration: 180\n",
      "sum squared error: 145172.32625473468\n",
      "rmse: 0.921609083199151\n",
      "max change: 182.0314721094474\n",
      "iteration: 200\n",
      "sum squared error: 129470.29914477844\n",
      "rmse: 0.8703419246255165\n",
      "max change: 874.0323586121985\n",
      "iteration: 220\n",
      "sum squared error: 116847.00317149736\n",
      "rmse: 0.8268250342861795\n",
      "max change: 74.63756146685022\n",
      "iteration: 240\n",
      "sum squared error: 106502.06343041595\n",
      "rmse: 0.7893758570966203\n",
      "max change: 11.40147497099662\n",
      "iteration: 260\n",
      "sum squared error: 97883.08619058173\n",
      "rmse: 0.7567608482853494\n",
      "max change: 130.89980449850825\n",
      "iteration: 280\n",
      "sum squared error: 90598.34954333662\n",
      "rmse: 0.728056312040363\n",
      "max change: 35.02061982024298\n",
      "iteration: 300\n",
      "sum squared error: 84363.52306420682\n",
      "rmse: 0.7025579981519703\n",
      "max change: 17.40936260615133\n",
      "iteration: 320\n",
      "sum squared error: 78967.98785572848\n",
      "rmse: 0.679720494120072\n",
      "max change: 29.049048725453456\n",
      "iteration: 340\n",
      "sum squared error: 74252.89704855348\n",
      "rmse: 0.6591155075495753\n",
      "max change: 26.117808341680067\n",
      "iteration: 360\n",
      "sum squared error: 70096.50853099441\n",
      "rmse: 0.6404025044412353\n",
      "max change: 91.75923349338609\n",
      "iteration: 380\n",
      "sum squared error: 66404.15468733599\n",
      "rmse: 0.6233076464992252\n",
      "max change: 43.32217963330196\n",
      "iteration: 400\n",
      "sum squared error: 63101.24454766749\n",
      "rmse: 0.6076084302725044\n",
      "max change: 19.28336050377194\n",
      "iteration: 420\n",
      "sum squared error: 60128.293630366854\n",
      "rmse: 0.593122320803538\n",
      "max change: 21.014769216233656\n",
      "iteration: 440\n",
      "sum squared error: 57437.33670989369\n",
      "rmse: 0.5796982314534661\n",
      "max change: 92.71376644654495\n",
      "iteration: 460\n",
      "sum squared error: 54989.300616120294\n",
      "rmse: 0.5672100620799816\n",
      "max change: 20.181611025027294\n",
      "iteration: 480\n",
      "sum squared error: 52752.05424017362\n",
      "rmse: 0.55555174564515\n",
      "max change: 161.5662145187638\n",
      "iteration: 500\n",
      "sum squared error: 50698.94325345843\n",
      "rmse: 0.5446334135064905\n",
      "max change: 67.57822143734772\n"
     ]
    }
   ],
   "source": [
    "# learning loop\n",
    "np.random.seed(23)\n",
    "importance_mat = targets > 0  # only want to consider errors where targets that are not 0 (don't want to predict 0)\n",
    "\n",
    "# latent_dim = 100\n",
    "normalize = 1\n",
    "\n",
    "# initialize user and movie matrices\n",
    "movie_mat = np.random.rand(latent_dim, n_movies)/normalize\n",
    "user_mat = np.random.rand(n_users, latent_dim)/normalize\n",
    "m_biases = np.random.rand(1, n_movies)/normalize\n",
    "u_biases = np.random.rand(n_users, 1)/normalize\n",
    "\n",
    "n_iterations = 500\n",
    "\n",
    "sses = list()\n",
    "\n",
    "for it in range(n_iterations+1):\n",
    "#     print('user shape:', user_mat.shape)\n",
    "#     print('movie shape:',movie_mat.shape)\n",
    "#     print('ub shape:', u_biases.shape)\n",
    "#     print('mb shape:', m_biases.shape)\n",
    "    pred = np.dot(user_mat, movie_mat) + m_biases + u_biases\n",
    "    err = targets - pred\n",
    "\n",
    "    err_fix = err * importance_mat\n",
    "    \n",
    "    sse = np.sum(err_fix**2)\n",
    "    sses.append(sse)\n",
    "    if it%20 ==0:\n",
    "        print('iteration:',it)\n",
    "        print('sum squared error:', sse)\n",
    "        print('rmse:',(sse/np.sum(importance_mat))**0.5)\n",
    "    \n",
    "    # derivatives\n",
    "    dJdp = np.dot(movie_mat,err_fix.transpose()).transpose() * -1 + lam * user_mat\n",
    "    dJdq = np.dot(user_mat.transpose(), err_fix) * -1 + lam * movie_mat\n",
    "    dJdbu = np.sum(err_fix,axis=1).reshape((n_users,1)) * -1 + lam * u_biases\n",
    "    dJdbi = np.sum(err_fix,axis=0).reshape((1, n_movies)) * -1 + lam * m_biases\n",
    "\n",
    "    # get updates\n",
    "    new_user_mat = user_mat - alpha * dJdp\n",
    "    new_movie_mat = movie_mat - alpha * dJdq\n",
    "    new_m_biases = m_biases - alpha * dJdbi\n",
    "    new_u_biases = u_biases - alpha * dJdbu\n",
    "\n",
    "\n",
    "    # calculate changes\n",
    "    delta_user_mat = np.absolute((new_user_mat - user_mat)/(user_mat + epsilon))\n",
    "    delta_movie_mat = np.absolute((new_movie_mat - movie_mat)/(movie_mat + epsilon))\n",
    "    delta_m_biases = np.absolute((new_m_biases - m_biases)/(m_biases + epsilon))\n",
    "    delta_u_biases = np.absolute((new_u_biases - u_biases)/(u_biases + epsilon))\n",
    "\n",
    "    max_u_mat = np.max(delta_user_mat)\n",
    "    max_m_mat = np.max(delta_movie_mat)\n",
    "    max_ub = np.max(delta_u_biases)\n",
    "    max_mb = np.max(delta_m_biases)\n",
    "\n",
    "    largest_delta = max(max_u_mat, max_m_mat, max_ub, max_mb)\n",
    "    if it%20 ==0:\n",
    "        print('max change:', largest_delta)\n",
    "    if largest_delta < stop_thrsh:\n",
    "        break\n",
    "    \n",
    "    # update latent value matrices\n",
    "    user_mat = new_user_mat\n",
    "    movie_mat = new_movie_mat\n",
    "    m_biases = new_m_biases\n",
    "    u_biases = new_u_biases\n",
    "\n"
   ]
  },
  {
   "cell_type": "code",
   "execution_count": 400,
   "metadata": {},
   "outputs": [
    {
     "data": {
      "text/plain": [
       "[<matplotlib.lines.Line2D at 0x11a0dda90>]"
      ]
     },
     "execution_count": 400,
     "metadata": {},
     "output_type": "execute_result"
    },
    {
     "data": {
      "image/png": "[encoded data removed]",
      "text/plain": [
       "<matplotlib.figure.Figure at 0x11b4e2470>"
      ]
     },
     "metadata": {
      "needs_background": "light"
     },
     "output_type": "display_data"
    }
   ],
   "source": [
    "import matplotlib.pyplot as plt\n",
    "plt.plot(sses)"
   ]
  },
  {
   "cell_type": "code",
   "execution_count": 392,
   "metadata": {
    "scrolled": true
   },
   "outputs": [
    {
     "data": {
      "text/plain": [
       "array([[-0.14140942,  0.15362685,  0.08774574, ..., -0.02641534,\n",
       "         0.09397676, -0.05096706],\n",
       "       [-0.2080311 , -0.00305609,  0.04023532, ..., -0.31157291,\n",
       "        -0.12435793, -0.08643469],\n",
       "       [-0.27289132,  0.33488366, -0.33666524, ..., -0.45569787,\n",
       "        -0.1396977 , -0.31342619],\n",
       "       ...,\n",
       "       [-0.00306159,  0.00733735, -0.00866552, ...,  0.03058856,\n",
       "        -0.05653288, -0.01022822],\n",
       "       [ 0.52643055, -0.32072371,  0.04866493, ...,  0.16800206,\n",
       "         0.07089973,  0.32473166],\n",
       "       [-0.01874773,  0.00959872,  0.04398171, ...,  0.08174099,\n",
       "         0.02734138, -0.02357063]])"
      ]
     },
     "execution_count": 392,
     "metadata": {},
     "output_type": "execute_result"
    }
   ],
   "source": [
    "user_mat"
   ]
  },
  {
   "cell_type": "code",
   "execution_count": 393,
   "metadata": {},
   "outputs": [
    {
     "data": {
      "text/plain": [
       "array([[ 0.25976449,  0.70253728,  0.61311934, ...,  0.92044327,\n",
       "         0.87391073,  0.7878773 ],\n",
       "       [ 0.3571575 ,  0.65057046,  0.39134417, ...,  0.6316314 ,\n",
       "         0.84721115,  0.90978381],\n",
       "       [-0.080927  ,  0.17232755,  0.57204469, ...,  0.80816343,\n",
       "         0.34990622,  0.60112099],\n",
       "       ...,\n",
       "       [ 0.27959876,  0.40208641,  0.37861017, ...,  0.13442831,\n",
       "         0.11439839,  0.03057506],\n",
       "       [ 0.15929647,  0.43164676,  0.48986353, ...,  0.52751308,\n",
       "         0.38784152,  0.91974214],\n",
       "       [ 0.10773156,  0.34724897,  0.37805889, ...,  0.75321111,\n",
       "         0.7796361 ,  0.22340954]])"
      ]
     },
     "execution_count": 393,
     "metadata": {},
     "output_type": "execute_result"
    }
   ],
   "source": [
    "movie_mat"
   ]
  },
  {
   "cell_type": "code",
   "execution_count": 394,
   "metadata": {},
   "outputs": [
    {
     "name": "stdout",
     "output_type": "stream",
     "text": [
      "[[ 0.14254128  0.0040516   0.31314039 ...  0.40310177  0.58379136\n",
      "   0.41266927]\n",
      " [ 1.95370173  1.82519073  1.19169754 ...  1.67450679  1.8924373\n",
      "   2.68565208]\n",
      " [ 0.00378194  0.19532826  0.04491912 ...  0.60686329  0.10384548\n",
      "   0.59505435]\n",
      " ...\n",
      " [-0.08633237 -0.14104704 -0.15109405 ... -0.21068355 -0.29874637\n",
      "  -0.35569437]\n",
      " [-0.40854371  0.88134937  0.92219064 ...  1.49504512  0.9635628\n",
      "   0.52303568]\n",
      " [-0.03207051 -0.01825708  0.07413767 ...  0.05384203 -0.07061777\n",
      "   0.01863675]]\n",
      "[[8.00000000e-01 8.00000000e-01 8.00000000e-01 ... 0.00000000e+00\n",
      "  0.00000000e+00 0.00000000e+00]\n",
      " [0.00000000e+00 0.00000000e+00 0.00000000e+00 ... 0.00000000e+00\n",
      "  0.00000000e+00 0.00000000e+00]\n",
      " [0.00000000e+00 0.00000000e+00 0.00000000e+00 ... 0.00000000e+00\n",
      "  0.00000000e+00 0.00000000e+00]\n",
      " ...\n",
      " [5.00000000e-01 4.00000000e-01 1.09951163e-27 ... 0.00000000e+00\n",
      "  0.00000000e+00 0.00000000e+00]\n",
      " [6.00000000e-01 0.00000000e+00 0.00000000e+00 ... 0.00000000e+00\n",
      "  0.00000000e+00 0.00000000e+00]\n",
      " [1.00000000e+00 0.00000000e+00 1.00000000e+00 ... 6.00000000e-01\n",
      "  7.00000000e-01 7.00000000e-01]]\n"
     ]
    }
   ],
   "source": [
    "recommendations = np.dot(user_mat, movie_mat)\n",
    "print(recommendations)\n",
    "print(targets)"
   ]
  },
  {
   "cell_type": "code",
   "execution_count": 396,
   "metadata": {},
   "outputs": [
    {
     "data": {
      "text/plain": [
       "(610, 40)"
      ]
     },
     "execution_count": 396,
     "metadata": {},
     "output_type": "execute_result"
    }
   ],
   "source": [
    "user_mat.shape"
   ]
  },
  {
   "cell_type": "code",
   "execution_count": 387,
   "metadata": {},
   "outputs": [],
   "source": [
    "def user_recs(rec_matrix):\n",
    "    # output user, 4+ rated movies, recommended movies\n",
    "    liked = targets == 1\n",
    "    recs = rec_matrix >= 1\n",
    "    n_users = 2\n",
    "    for i in range(n_users):\n",
    "        user_id = idx_to_uid.get(i)\n",
    "\n",
    "        liked_movies = list()\n",
    "        rec_movies = list()\n",
    "        for j in range(n_movies):\n",
    "            # add to liked?\n",
    "            if liked[i][j]:\n",
    "                mvid = idx_to_mvid.get(j)\n",
    "                liked_movies.append(mvid_to_title.get(mvid))\n",
    "            if recs[i][j]:\n",
    "                mvid = idx_to_mvid.get(j)\n",
    "                rec_movies.append(mvid_to_title.get(mvid))\n",
    "        \n",
    "        print('user', user_id)\n",
    "        print('liked:', liked_movies)\n",
    "        print('\\n')\n",
    "        print('recs:', rec_movies[:10])\n",
    "        "
   ]
  },
  {
   "cell_type": "code",
   "execution_count": 388,
   "metadata": {},
   "outputs": [
    {
     "name": "stdout",
     "output_type": "stream",
     "text": [
      "user 1\n",
      "liked: ['Seven (a.k.a. Se7en) (1995)', 'Usual Suspects, The (1995)', 'Bottle Rocket (1996)', 'Rob Roy (1995)', 'Canadian Bacon (1995)', 'Desperado (1995)', 'Billy Madison (1995)', 'Dumb & Dumber (Dumb and Dumber) (1994)', 'Star Wars: Episode IV - A New Hope (1977)', 'Tommy Boy (1995)', 'Jungle Book, The (1994)', 'Fugitive, The (1993)', \"Schindler's List (1993)\", 'Tombstone (1993)', 'Pinocchio (1940)', 'Fargo (1996)', 'James and the Giant Peach (1996)', 'Wizard of Oz, The (1939)', 'Citizen Kane (1941)', 'Adventures of Robin Hood, The (1938)', 'Mr. Smith Goes to Washington (1939)', 'Winnie the Pooh and the Blustery Day (1968)', 'Three Caballeros, The (1945)', 'Sword in the Stone, The (1963)', 'Dumbo (1941)', 'Bedknobs and Broomsticks (1971)', 'Alice in Wonderland (1951)', 'Ghost and the Darkness, The (1996)', 'Willy Wonka & the Chocolate Factory (1971)', \"Monty Python's Life of Brian (1979)\", 'Reservoir Dogs (1992)', 'Basic Instinct (1992)', 'E.T. the Extra-Terrestrial (1982)', 'Monty Python and the Holy Grail (1975)', 'Star Wars: Episode V - The Empire Strikes Back (1980)', 'Princess Bride, The (1987)', 'Raiders of the Lost Ark (Indiana Jones and the Raiders of the Lost Ark) (1981)', 'Clockwork Orange, A (1971)', 'Star Wars: Episode VI - Return of the Jedi (1983)', 'Goodfellas (1990)', 'Blues Brothers, The (1980)', 'Full Metal Jacket (1987)', 'Henry V (1989)', 'Quiet Man, The (1952)', 'Terminator, The (1984)', 'Duck Soup (1933)', 'Back to the Future (1985)', 'Highlander (1986)', 'Young Frankenstein (1974)', 'Fantasia (1940)', 'Indiana Jones and the Last Crusade (1989)', 'Pink Floyd: The Wall (1982)', 'Austin Powers: International Man of Mystery (1997)', 'Face/Off (1997)', 'Conan the Barbarian (1982)', 'L.A. Confidential (1997)', 'Game, The (1997)', 'Big Lebowski, The (1998)', 'Newton Boys, The (1998)', 'All Quiet on the Western Front (1930)', 'Rocky (1976)', 'Goonies, The (1985)', 'Bambi (1942)', 'Black Cauldron, The (1985)', 'Great Mouse Detective, The (1986)', 'Negotiator, The (1998)', 'Jungle Book, The (1967)', 'Rescuers, The (1977)', 'Rocketeer, The (1991)', 'Indiana Jones and the Temple of Doom (1984)', 'Lord of the Rings, The (1978)', \"Charlotte's Web (1973)\", 'Secret of NIMH, The (1982)', 'American Tail, An (1986)', 'NeverEnding Story, The (1984)', 'Edward Scissorhands (1990)', 'American History X (1998)', 'Enemy of the State (1998)', 'Very Bad Things (1998)', 'Rushmore (1998)', 'Thin Red Line, The (1998)', 'Texas Chainsaw Massacre, The (1974)', 'Crocodile Dundee (1986)', 'Office Space (1999)', 'Planet of the Apes (1968)', 'Lock, Stock & Two Smoking Barrels (1998)', 'Matrix, The (1999)', 'Go (1999)', 'SLC Punk! (1998)', 'Superman II (1980)', 'Wolf Man, The (1941)', 'Run Lola Run (Lola rennt) (1998)', 'South Park: Bigger, Longer and Uncut (1999)', 'Ghostbusters (a.k.a. Ghost Busters) (1984)', 'Iron Giant, The (1999)', 'American Beauty (1999)', 'Excalibur (1981)', \"Gulliver's Travels (1939)\", 'Dirty Dozen, The (1967)', 'Goldfinger (1964)', 'From Russia with Love (1963)', 'Dr. No (1962)', 'Fight Club (1999)', 'Who Framed Roger Rabbit? (1988)', 'Live and Let Die (1973)', 'Thunderball (1965)', 'Spaceballs (1987)', 'Robin Hood (1973)', 'Dogma (1999)', 'Messenger: The Story of Joan of Arc, The (1999)', 'Green Mile, The (1999)', \"Wayne's World (1992)\", 'Scream 3 (2000)', 'JFK (1991)', 'Red Dawn (1984)', 'Good Morning, Vietnam (1987)', 'Grumpy Old Men (1993)', 'Gladiator (2000)', 'Blazing Saddles (1974)', 'Mad Max (1979)', 'Road Warrior, The (Mad Max 2) (1981)', 'Shaft (1971)', 'X-Men (2000)', 'M*A*S*H (a.k.a. MASH) (1970)']\n",
      "\n",
      "\n",
      "recs: ['Blow (2001)', 'Wild Bill (1995)', 'Aviator, The (2004)', 'Single Man, A (2009)', 'Pretty One, The (2013)', 'Looper (2012)', 'Manchurian Candidate, The (1962)', 'Magnificent Seven, The (1960)', 'Kick-Ass (2010)', 'Shaggy Dog, The (1959)']\n",
      "user 2\n",
      "liked: ['Step Brothers (2008)', 'Inside Job (2010)', 'Warrior (2011)', 'Wolf of Wall Street, The (2013)', 'Mad Max: Fury Road (2015)', 'The Jinx: The Life and Deaths of Robert Durst (2015)']\n",
      "\n",
      "\n",
      "recs: ['Toy Story (1995)', 'Grumpier Old Men (1995)', 'Heat (1995)', 'Seven (a.k.a. Se7en) (1995)', 'From Dusk Till Dawn (1996)', 'Bottle Rocket (1996)', 'Rob Roy (1995)', 'Canadian Bacon (1995)', 'Desperado (1995)', 'Billy Madison (1995)']\n"
     ]
    }
   ],
   "source": [
    "user_recs(recommendations)"
   ]
  },
  {
   "cell_type": "code",
   "execution_count": null,
   "metadata": {},
   "outputs": [],
   "source": []
  }
 ],
 "metadata": {
  "kernelspec": {
   "display_name": "Python 3",
   "language": "python",
   "name": "python3"
  },
  "language_info": {
   "codemirror_mode": {
    "name": "ipython",
    "version": 3
   },
   "file_extension": ".py",
   "mimetype": "text/x-python",
   "name": "python",
   "nbconvert_exporter": "python",
   "pygments_lexer": "ipython3",
   "version": "3.6.4"
  }
 },
 "nbformat": 4,
 "nbformat_minor": 2
}
