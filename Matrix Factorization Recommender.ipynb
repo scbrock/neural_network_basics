{
 "cells": [
  {
   "cell_type": "markdown",
   "metadata": {},
   "source": [
    "# Matrix Factorization Recommender System"
   ]
  },
  {
   "cell_type": "markdown",
   "metadata": {},
   "source": [
    "### Goal:\n",
    "To create a recommender system by using gradient descent to factorize the movie ratings matrix into user and movie latent vectors."
   ]
  },
  {
   "cell_type": "markdown",
   "metadata": {},
   "source": [
    "### Data:\n",
    "The data used is the small movie lens data set. \n",
    "<br>\n",
    "https://grouplens.org/datasets/movielens/"
   ]
  },
  {
   "cell_type": "markdown",
   "metadata": {},
   "source": [
    "## Two common techniques used for recommender systems are collaborative filtering and content filtering\n",
    "\n",
    "### Collaborative Filtering\n",
    "- create vectors for items and users from item-user interations\n",
    "\n",
    "### Content filtering\n",
    "- create vectors for items and users (e.g. using inverse word frequencies)\n",
    "\n",
    "We will be doing matrix factorization, which is a form of collaborative filtering."
   ]
  },
  {
   "cell_type": "markdown",
   "metadata": {},
   "source": [
    "### Import Libraries"
   ]
  },
  {
   "cell_type": "code",
   "execution_count": 1,
   "metadata": {},
   "outputs": [],
   "source": [
    "import numpy as np\n",
    "import pandas as pd\n",
    "import matplotlib.pyplot as plt\n"
   ]
  },
  {
   "cell_type": "markdown",
   "metadata": {},
   "source": [
    "### Load and investigate user-movie interaction data"
   ]
  },
  {
   "cell_type": "code",
   "execution_count": 2,
   "metadata": {},
   "outputs": [
    {
     "data": {
      "text/html": [
       "<div>\n",
       "<style scoped>\n",
       "    .dataframe tbody tr th:only-of-type {\n",
       "        vertical-align: middle;\n",
       "    }\n",
       "\n",
       "    .dataframe tbody tr th {\n",
       "        vertical-align: top;\n",
       "    }\n",
       "\n",
       "    .dataframe thead th {\n",
       "        text-align: right;\n",
       "    }\n",
       "</style>\n",
       "<table border=\"1\" class=\"dataframe\">\n",
       "  <thead>\n",
       "    <tr style=\"text-align: right;\">\n",
       "      <th></th>\n",
       "      <th>userId</th>\n",
       "      <th>movieId</th>\n",
       "      <th>rating</th>\n",
       "      <th>timestamp</th>\n",
       "    </tr>\n",
       "  </thead>\n",
       "  <tbody>\n",
       "    <tr>\n",
       "      <th>0</th>\n",
       "      <td>1</td>\n",
       "      <td>1</td>\n",
       "      <td>4.0</td>\n",
       "      <td>964982703</td>\n",
       "    </tr>\n",
       "    <tr>\n",
       "      <th>1</th>\n",
       "      <td>1</td>\n",
       "      <td>3</td>\n",
       "      <td>4.0</td>\n",
       "      <td>964981247</td>\n",
       "    </tr>\n",
       "    <tr>\n",
       "      <th>2</th>\n",
       "      <td>1</td>\n",
       "      <td>6</td>\n",
       "      <td>4.0</td>\n",
       "      <td>964982224</td>\n",
       "    </tr>\n",
       "    <tr>\n",
       "      <th>3</th>\n",
       "      <td>1</td>\n",
       "      <td>47</td>\n",
       "      <td>5.0</td>\n",
       "      <td>964983815</td>\n",
       "    </tr>\n",
       "    <tr>\n",
       "      <th>4</th>\n",
       "      <td>1</td>\n",
       "      <td>50</td>\n",
       "      <td>5.0</td>\n",
       "      <td>964982931</td>\n",
       "    </tr>\n",
       "  </tbody>\n",
       "</table>\n",
       "</div>"
      ],
      "text/plain": [
       "   userId  movieId  rating  timestamp\n",
       "0       1        1     4.0  964982703\n",
       "1       1        3     4.0  964981247\n",
       "2       1        6     4.0  964982224\n",
       "3       1       47     5.0  964983815\n",
       "4       1       50     5.0  964982931"
      ]
     },
     "execution_count": 2,
     "metadata": {},
     "output_type": "execute_result"
    }
   ],
   "source": [
    "ratings = pd.read_csv('ml-latest-small/ratings.csv')\n",
    "ratings.head()"
   ]
  },
  {
   "cell_type": "code",
   "execution_count": 3,
   "metadata": {},
   "outputs": [
    {
     "name": "stdout",
     "output_type": "stream",
     "text": [
      "unique users: 610\n",
      "unique_movies: 9724\n"
     ]
    }
   ],
   "source": [
    "unique_movies = ratings['movieId'].unique()\n",
    "unique_users = ratings['userId'].unique()\n",
    "\n",
    "n_users = len(unique_users)\n",
    "n_movies = len(unique_movies)\n",
    "print('unique users:',n_users)\n",
    "print('unique_movies:',n_movies)"
   ]
  },
  {
   "cell_type": "code",
   "execution_count": 4,
   "metadata": {
    "scrolled": true
   },
   "outputs": [
    {
     "name": "stdout",
     "output_type": "stream",
     "text": [
      "610\n",
      "193609\n"
     ]
    }
   ],
   "source": [
    "print(max(unique_users))\n",
    "print(max(unique_movies))"
   ]
  },
  {
   "cell_type": "markdown",
   "metadata": {},
   "source": [
    "#### Create a useful dictionary to navigate between indices and data"
   ]
  },
  {
   "cell_type": "code",
   "execution_count": 5,
   "metadata": {},
   "outputs": [],
   "source": [
    "# this means we need to create a mapping from the movie id's to their positions in the matrix\n",
    "# unique users == number of users, but we will create a mapping for them too\n",
    "uid_to_idx = dict()\n",
    "mvid_to_idx = dict()\n",
    "idx_to_uid = dict()\n",
    "idx_to_mvid = dict()\n",
    "\n",
    "for i, uid in enumerate(unique_users):\n",
    "    uid_to_idx[uid] = i\n",
    "    idx_to_uid[i] = uid\n",
    "    \n",
    "for i, mvid in enumerate(unique_movies):\n",
    "    mvid_to_idx[mvid] = i\n",
    "    idx_to_mvid[i] = mvid\n",
    "    \n"
   ]
  },
  {
   "cell_type": "markdown",
   "metadata": {},
   "source": [
    "### Load and investigate movie-title data"
   ]
  },
  {
   "cell_type": "code",
   "execution_count": 6,
   "metadata": {},
   "outputs": [
    {
     "data": {
      "text/html": [
       "<div>\n",
       "<style scoped>\n",
       "    .dataframe tbody tr th:only-of-type {\n",
       "        vertical-align: middle;\n",
       "    }\n",
       "\n",
       "    .dataframe tbody tr th {\n",
       "        vertical-align: top;\n",
       "    }\n",
       "\n",
       "    .dataframe thead th {\n",
       "        text-align: right;\n",
       "    }\n",
       "</style>\n",
       "<table border=\"1\" class=\"dataframe\">\n",
       "  <thead>\n",
       "    <tr style=\"text-align: right;\">\n",
       "      <th></th>\n",
       "      <th>movieId</th>\n",
       "      <th>title</th>\n",
       "      <th>genres</th>\n",
       "    </tr>\n",
       "  </thead>\n",
       "  <tbody>\n",
       "    <tr>\n",
       "      <th>0</th>\n",
       "      <td>1</td>\n",
       "      <td>Toy Story (1995)</td>\n",
       "      <td>Adventure|Animation|Children|Comedy|Fantasy</td>\n",
       "    </tr>\n",
       "    <tr>\n",
       "      <th>1</th>\n",
       "      <td>2</td>\n",
       "      <td>Jumanji (1995)</td>\n",
       "      <td>Adventure|Children|Fantasy</td>\n",
       "    </tr>\n",
       "    <tr>\n",
       "      <th>2</th>\n",
       "      <td>3</td>\n",
       "      <td>Grumpier Old Men (1995)</td>\n",
       "      <td>Comedy|Romance</td>\n",
       "    </tr>\n",
       "    <tr>\n",
       "      <th>3</th>\n",
       "      <td>4</td>\n",
       "      <td>Waiting to Exhale (1995)</td>\n",
       "      <td>Comedy|Drama|Romance</td>\n",
       "    </tr>\n",
       "    <tr>\n",
       "      <th>4</th>\n",
       "      <td>5</td>\n",
       "      <td>Father of the Bride Part II (1995)</td>\n",
       "      <td>Comedy</td>\n",
       "    </tr>\n",
       "  </tbody>\n",
       "</table>\n",
       "</div>"
      ],
      "text/plain": [
       "   movieId                               title  \\\n",
       "0        1                    Toy Story (1995)   \n",
       "1        2                      Jumanji (1995)   \n",
       "2        3             Grumpier Old Men (1995)   \n",
       "3        4            Waiting to Exhale (1995)   \n",
       "4        5  Father of the Bride Part II (1995)   \n",
       "\n",
       "                                        genres  \n",
       "0  Adventure|Animation|Children|Comedy|Fantasy  \n",
       "1                   Adventure|Children|Fantasy  \n",
       "2                               Comedy|Romance  \n",
       "3                         Comedy|Drama|Romance  \n",
       "4                                       Comedy  "
      ]
     },
     "execution_count": 6,
     "metadata": {},
     "output_type": "execute_result"
    }
   ],
   "source": [
    "# create mapping from mvid to movie name\n",
    "movie_df = pd.read_csv('ml-latest-small/movies.csv')\n",
    "movie_df.head()"
   ]
  },
  {
   "cell_type": "markdown",
   "metadata": {},
   "source": [
    "#### Create dictionary of (movie_id, title)"
   ]
  },
  {
   "cell_type": "code",
   "execution_count": 7,
   "metadata": {},
   "outputs": [],
   "source": [
    "titles = movie_df['title'].values\n",
    "mvids = movie_df['movieId'].values\n",
    "n_vids = len(mvids)\n",
    "mvid_to_title = dict()\n",
    "\n",
    "for i in range(n_vids):\n",
    "    mvid_to_title[mvids[i]] = titles[i] \n",
    "\n"
   ]
  },
  {
   "cell_type": "code",
   "execution_count": 8,
   "metadata": {},
   "outputs": [],
   "source": [
    "# Assume user-movie non-interaction is a 0 rating\n",
    "np_data = np.zeros((n_users, n_movies))"
   ]
  },
  {
   "cell_type": "code",
   "execution_count": 9,
   "metadata": {},
   "outputs": [
    {
     "data": {
      "text/plain": [
       "(610, 9724)"
      ]
     },
     "execution_count": 9,
     "metadata": {},
     "output_type": "execute_result"
    }
   ],
   "source": [
    "np_data.shape"
   ]
  },
  {
   "cell_type": "code",
   "execution_count": 10,
   "metadata": {},
   "outputs": [
    {
     "data": {
      "text/plain": [
       "0.0"
      ]
     },
     "execution_count": 10,
     "metadata": {},
     "output_type": "execute_result"
    }
   ],
   "source": [
    "np_data[0][0]"
   ]
  },
  {
   "cell_type": "code",
   "execution_count": null,
   "metadata": {},
   "outputs": [],
   "source": []
  },
  {
   "cell_type": "code",
   "execution_count": 11,
   "metadata": {},
   "outputs": [
    {
     "name": "stdout",
     "output_type": "stream",
     "text": [
      "[0. 0. 0. ... 0. 0. 0.]\n",
      "0.0\n"
     ]
    }
   ],
   "source": [
    "print(np_data[0])\n",
    "print(np_data[0][0])"
   ]
  },
  {
   "cell_type": "code",
   "execution_count": null,
   "metadata": {},
   "outputs": [],
   "source": []
  },
  {
   "cell_type": "code",
   "execution_count": 12,
   "metadata": {},
   "outputs": [],
   "source": [
    "# populate the data\n",
    "for i in range(n_users):\n",
    "    uid = idx_to_uid.get(i)\n",
    "    # get all movieId\n",
    "    user_i = ratings[ratings['userId'] == uid]\n",
    "    movies = user_i['movieId'].values\n",
    "    rates = user_i['rating'].values\n",
    "    for k,j in enumerate(movies):\n",
    "        mv_idx = mvid_to_idx.get(j)\n",
    "        np_data[i][mv_idx] = rates[k]\n",
    "        \n",
    "np_data /= 5\n",
    "\n",
    "        \n",
    "        \n",
    "        "
   ]
  },
  {
   "cell_type": "code",
   "execution_count": 13,
   "metadata": {},
   "outputs": [
    {
     "data": {
      "text/plain": [
       "array([4. , 5. , 3. , 2. , 1. , 4.5, 3.5, 2.5, 0.5, 1.5])"
      ]
     },
     "execution_count": 13,
     "metadata": {},
     "output_type": "execute_result"
    }
   ],
   "source": [
    "# print ratings\n",
    "ratings['rating'].unique()\n",
    "# 0.5 to 5 increasing by 0.5"
   ]
  },
  {
   "cell_type": "code",
   "execution_count": 14,
   "metadata": {},
   "outputs": [
    {
     "data": {
      "text/plain": [
       "array([[0.8, 0.8, 0.8, ..., 0. , 0. , 0. ],\n",
       "       [0. , 0. , 0. , ..., 0. , 0. , 0. ],\n",
       "       [0. , 0. , 0. , ..., 0. , 0. , 0. ],\n",
       "       ...,\n",
       "       [0.5, 0.4, 0. , ..., 0. , 0. , 0. ],\n",
       "       [0.6, 0. , 0. , ..., 0. , 0. , 0. ],\n",
       "       [1. , 0. , 1. , ..., 0.6, 0.7, 0.7]])"
      ]
     },
     "execution_count": 14,
     "metadata": {},
     "output_type": "execute_result"
    }
   ],
   "source": [
    "np_data"
   ]
  },
  {
   "cell_type": "code",
   "execution_count": 15,
   "metadata": {},
   "outputs": [],
   "source": [
    "# example from: https://towardsdatascience.com/paper-summary-matrix-factorization-techniques-for-recommender-systems-82d1a7ace74\n",
    "ans = np.array([\n",
    "    [0,4.5,2,0],\n",
    "    [4,0,3.5,0],\n",
    "    [0,5,0,2],\n",
    "    [0,3.5,4,1]\n",
    "])\n",
    "\n",
    "mat_a = np.array([\n",
    "    [1.2, 0.8],\n",
    "    [1.4,0.9],\n",
    "    [1.5,1],\n",
    "    [1.2,0.8]\n",
    "])\n",
    "\n",
    "mat_b = np.array([\n",
    "    [1.5,1.2,1,0.8],\n",
    "    [1.7,0.6,1.1,0.4]\n",
    "])\n",
    "\n"
   ]
  },
  {
   "cell_type": "code",
   "execution_count": 16,
   "metadata": {},
   "outputs": [
    {
     "data": {
      "text/plain": [
       "array([[3.16, 1.92, 2.08, 1.28],\n",
       "       [3.63, 2.22, 2.39, 1.48],\n",
       "       [3.95, 2.4 , 2.6 , 1.6 ],\n",
       "       [3.16, 1.92, 2.08, 1.28]])"
      ]
     },
     "execution_count": 16,
     "metadata": {},
     "output_type": "execute_result"
    }
   ],
   "source": [
    "np.dot(mat_a,mat_b)"
   ]
  },
  {
   "cell_type": "code",
   "execution_count": 17,
   "metadata": {},
   "outputs": [],
   "source": [
    "# each user has a bias, each movie has a bias\n",
    "# convert ratings to [0,1]\n",
    "# start with 10 latent features \n",
    "\n",
    "\n",
    "m_biases = np.random.rand(1, n_movies)\n",
    "u_biases = np.random.rand(n_users, 1)\n",
    "\n",
    "latent_dim = 100\n",
    "\n",
    "targets = np_data\n",
    "\n",
    "lam = 0.0  # regularization parameter\n",
    "alpha = 0.00003 # learning parameter\n",
    "epsilon = 10e-7\n",
    "stop_thrsh = 0.01\n"
   ]
  },
  {
   "cell_type": "code",
   "execution_count": 18,
   "metadata": {},
   "outputs": [
    {
     "name": "stdout",
     "output_type": "stream",
     "text": [
      "iteration: 0\n",
      "sum squared error: 64905368.26781296\n",
      "rmse: 25.370703181230144\n",
      "max change: 78331.64008129893\n",
      "iteration: 20\n",
      "sum squared error: 2142156.28248401\n",
      "rmse: 4.609117409192492\n",
      "max change: 688.554424459512\n",
      "iteration: 40\n",
      "sum squared error: 852535.6184402859\n",
      "rmse: 2.9076924012973175\n",
      "max change: 10219.719651541409\n"
     ]
    }
   ],
   "source": [
    "# learning loop\n",
    "np.random.seed(23)\n",
    "importance_mat = targets > 0  # only want to consider errors where targets that are not 0 (don't want to predict 0)\n",
    "\n",
    "# latent_dim = 100\n",
    "normalize = 1\n",
    "\n",
    "# initialize user and movie matrices\n",
    "movie_mat = np.random.rand(latent_dim, n_movies)/normalize\n",
    "user_mat = np.random.rand(n_users, latent_dim)/normalize\n",
    "m_biases = np.random.rand(1, n_movies)/normalize\n",
    "u_biases = np.random.rand(n_users, 1)/normalize\n",
    "\n",
    "n_iterations = 50\n",
    "\n",
    "sses = list()\n",
    "\n",
    "for it in range(n_iterations+1):\n",
    "\n",
    "    pred = np.dot(user_mat, movie_mat) + m_biases + u_biases\n",
    "    err = targets - pred\n",
    "\n",
    "    err_fix = err * importance_mat\n",
    "    \n",
    "    sse = np.sum(err_fix**2)\n",
    "    sses.append(sse)\n",
    "    if it%20 ==0:\n",
    "        print('iteration:',it)\n",
    "        print('sum squared error:', sse)\n",
    "        print('rmse:',(sse/np.sum(importance_mat))**0.5)\n",
    "    \n",
    "    # derivatives\n",
    "    dJdp = np.dot(movie_mat,err_fix.transpose()).transpose() * -1 + lam * user_mat\n",
    "    dJdq = np.dot(user_mat.transpose(), err_fix) * -1 + lam * movie_mat\n",
    "    dJdbu = np.sum(err_fix,axis=1).reshape((n_users,1)) * -1 + lam * u_biases\n",
    "    dJdbi = np.sum(err_fix,axis=0).reshape((1, n_movies)) * -1 + lam * m_biases\n",
    "\n",
    "    # get updates\n",
    "    new_user_mat = user_mat - alpha * dJdp\n",
    "    new_movie_mat = movie_mat - alpha * dJdq\n",
    "    new_m_biases = m_biases - alpha * dJdbi\n",
    "    new_u_biases = u_biases - alpha * dJdbu\n",
    "\n",
    "\n",
    "    # calculate changes\n",
    "    delta_user_mat = np.absolute((new_user_mat - user_mat)/(user_mat + epsilon))\n",
    "    delta_movie_mat = np.absolute((new_movie_mat - movie_mat)/(movie_mat + epsilon))\n",
    "    delta_m_biases = np.absolute((new_m_biases - m_biases)/(m_biases + epsilon))\n",
    "    delta_u_biases = np.absolute((new_u_biases - u_biases)/(u_biases + epsilon))\n",
    "\n",
    "    max_u_mat = np.max(delta_user_mat)\n",
    "    max_m_mat = np.max(delta_movie_mat)\n",
    "    max_ub = np.max(delta_u_biases)\n",
    "    max_mb = np.max(delta_m_biases)\n",
    "\n",
    "    largest_delta = max(max_u_mat, max_m_mat, max_ub, max_mb)\n",
    "    if it%20 ==0:\n",
    "        print('max change:', largest_delta)\n",
    "    if largest_delta < stop_thrsh:\n",
    "        break\n",
    "    \n",
    "    # update latent value matrices\n",
    "    user_mat = new_user_mat\n",
    "    movie_mat = new_movie_mat\n",
    "    m_biases = new_m_biases\n",
    "    u_biases = new_u_biases\n",
    "\n"
   ]
  },
  {
   "cell_type": "code",
   "execution_count": 19,
   "metadata": {},
   "outputs": [
    {
     "data": {
      "text/plain": [
       "[<matplotlib.lines.Line2D at 0x1114862e8>]"
      ]
     },
     "execution_count": 19,
     "metadata": {},
     "output_type": "execute_result"
    },
    {
     "data": {
      "image/png": "[encoded data removed]",
      "text/plain": [
       "<matplotlib.figure.Figure at 0x11349b5f8>"
      ]
     },
     "metadata": {
      "needs_background": "light"
     },
     "output_type": "display_data"
    }
   ],
   "source": [
    "import matplotlib.pyplot as plt\n",
    "plt.plot(sses)"
   ]
  },
  {
   "cell_type": "code",
   "execution_count": 20,
   "metadata": {
    "scrolled": true
   },
   "outputs": [
    {
     "data": {
      "text/plain": [
       "array([[-0.12725234,  0.50928858,  0.4667495 , ...,  0.20907794,\n",
       "         0.49913015,  0.38070214],\n",
       "       [-0.23178207, -0.02162758,  0.348095  , ...,  0.15107088,\n",
       "         0.64499811,  0.67938603],\n",
       "       [ 0.19587909, -0.13240439,  0.55586147, ...,  0.19797124,\n",
       "        -0.18127205,  0.39704914],\n",
       "       ...,\n",
       "       [ 0.25298504, -0.17454342,  0.21100782, ..., -0.14816107,\n",
       "         0.29889494,  0.29715762],\n",
       "       [ 0.1385558 ,  0.05331599,  0.43159521, ...,  0.4156828 ,\n",
       "         0.0151562 ,  0.69216025],\n",
       "       [-0.37984937,  0.30994678,  0.36319402, ...,  0.39210579,\n",
       "        -0.26400189, -0.29703153]])"
      ]
     },
     "execution_count": 20,
     "metadata": {},
     "output_type": "execute_result"
    }
   ],
   "source": [
    "user_mat"
   ]
  },
  {
   "cell_type": "code",
   "execution_count": 21,
   "metadata": {},
   "outputs": [
    {
     "data": {
      "text/plain": [
       "array([[ 0.13379546,  0.75610661,  0.47479149, ...,  0.92160923,\n",
       "         0.87487944,  0.78972778],\n",
       "       [ 0.18312248,  0.76041256,  0.30811496, ...,  0.63085982,\n",
       "         0.84700586,  0.90869791],\n",
       "       [-0.27117648,  0.21406857,  0.51475761, ...,  0.80809598,\n",
       "         0.35069187,  0.60089736],\n",
       "       ...,\n",
       "       [-0.13329153, -0.05887408, -0.15112348, ...,  0.75600406,\n",
       "         0.54521399,  0.42298567],\n",
       "       [ 0.17552929,  0.76391548, -0.1412335 , ...,  0.09491988,\n",
       "         0.06215751,  0.53145894],\n",
       "       [-0.35100988,  0.58554843,  0.39590181, ...,  0.46642639,\n",
       "         0.62283223,  0.70228512]])"
      ]
     },
     "execution_count": 21,
     "metadata": {},
     "output_type": "execute_result"
    }
   ],
   "source": [
    "movie_mat"
   ]
  },
  {
   "cell_type": "code",
   "execution_count": 22,
   "metadata": {},
   "outputs": [
    {
     "name": "stdout",
     "output_type": "stream",
     "text": [
      "[[ 5.24575315e-01  1.60627531e+00  4.07703788e-01 ...  1.59065265e+00\n",
      "   1.11170026e+00  2.17205879e+00]\n",
      " [ 2.55221512e+00  9.62621045e+00  6.85656662e+00 ...  1.13655851e+01\n",
      "   1.10638843e+01  1.16318021e+01]\n",
      " [ 2.06330331e+00  6.65105070e+00  3.57939249e+00 ...  8.54472929e+00\n",
      "   8.11659913e+00  8.19794674e+00]\n",
      " ...\n",
      " [-5.80510206e-01  2.00682113e+00  9.22583416e-01 ...  1.82761779e+00\n",
      "   1.40495728e+00  1.00658306e+00]\n",
      " [ 1.39335419e+00  8.39137832e+00  7.26404134e+00 ...  1.13212803e+01\n",
      "   1.24533645e+01  1.19961231e+01]\n",
      " [ 1.11286441e-01  1.11870372e+00 -1.24916971e-03 ...  6.48706676e-01\n",
      "  -1.79016903e-01  1.25067168e+00]]\n",
      "[[0.8 0.8 0.8 ... 0.  0.  0. ]\n",
      " [0.  0.  0.  ... 0.  0.  0. ]\n",
      " [0.  0.  0.  ... 0.  0.  0. ]\n",
      " ...\n",
      " [0.5 0.4 0.  ... 0.  0.  0. ]\n",
      " [0.6 0.  0.  ... 0.  0.  0. ]\n",
      " [1.  0.  1.  ... 0.6 0.7 0.7]]\n"
     ]
    }
   ],
   "source": [
    "recommendations = np.dot(user_mat, movie_mat)\n",
    "print(recommendations)\n",
    "print(targets)"
   ]
  },
  {
   "cell_type": "code",
   "execution_count": 23,
   "metadata": {},
   "outputs": [
    {
     "data": {
      "text/plain": [
       "(610, 100)"
      ]
     },
     "execution_count": 23,
     "metadata": {},
     "output_type": "execute_result"
    }
   ],
   "source": [
    "user_mat.shape"
   ]
  },
  {
   "cell_type": "code",
   "execution_count": 24,
   "metadata": {},
   "outputs": [],
   "source": [
    "def user_recs(rec_matrix):\n",
    "    # output user, 4+ rated movies, recommended movies\n",
    "    liked = targets == 1\n",
    "    recs = rec_matrix >= 1\n",
    "    n_users = 2\n",
    "    for i in range(n_users):\n",
    "        user_id = idx_to_uid.get(i)\n",
    "\n",
    "        liked_movies = list()\n",
    "        rec_movies = list()\n",
    "        for j in range(n_movies):\n",
    "            # add to liked?\n",
    "            if liked[i][j]:\n",
    "                mvid = idx_to_mvid.get(j)\n",
    "                liked_movies.append(mvid_to_title.get(mvid))\n",
    "            if recs[i][j]:\n",
    "                mvid = idx_to_mvid.get(j)\n",
    "                rec_movies.append(mvid_to_title.get(mvid))\n",
    "        \n",
    "        print('user', user_id)\n",
    "        print('liked:', liked_movies)\n",
    "        print('\\n')\n",
    "        print('recs:', rec_movies[:10])\n",
    "        "
   ]
  },
  {
   "cell_type": "code",
   "execution_count": 25,
   "metadata": {},
   "outputs": [
    {
     "name": "stdout",
     "output_type": "stream",
     "text": [
      "user 1\n",
      "liked: ['Seven (a.k.a. Se7en) (1995)', 'Usual Suspects, The (1995)', 'Bottle Rocket (1996)', 'Rob Roy (1995)', 'Canadian Bacon (1995)', 'Desperado (1995)', 'Billy Madison (1995)', 'Dumb & Dumber (Dumb and Dumber) (1994)', 'Star Wars: Episode IV - A New Hope (1977)', 'Tommy Boy (1995)', 'Jungle Book, The (1994)', 'Fugitive, The (1993)', \"Schindler's List (1993)\", 'Tombstone (1993)', 'Pinocchio (1940)', 'Fargo (1996)', 'James and the Giant Peach (1996)', 'Wizard of Oz, The (1939)', 'Citizen Kane (1941)', 'Adventures of Robin Hood, The (1938)', 'Mr. Smith Goes to Washington (1939)', 'Winnie the Pooh and the Blustery Day (1968)', 'Three Caballeros, The (1945)', 'Sword in the Stone, The (1963)', 'Dumbo (1941)', 'Bedknobs and Broomsticks (1971)', 'Alice in Wonderland (1951)', 'Ghost and the Darkness, The (1996)', 'Willy Wonka & the Chocolate Factory (1971)', \"Monty Python's Life of Brian (1979)\", 'Reservoir Dogs (1992)', 'Basic Instinct (1992)', 'E.T. the Extra-Terrestrial (1982)', 'Monty Python and the Holy Grail (1975)', 'Star Wars: Episode V - The Empire Strikes Back (1980)', 'Princess Bride, The (1987)', 'Raiders of the Lost Ark (Indiana Jones and the Raiders of the Lost Ark) (1981)', 'Clockwork Orange, A (1971)', 'Star Wars: Episode VI - Return of the Jedi (1983)', 'Goodfellas (1990)', 'Blues Brothers, The (1980)', 'Full Metal Jacket (1987)', 'Henry V (1989)', 'Quiet Man, The (1952)', 'Terminator, The (1984)', 'Duck Soup (1933)', 'Back to the Future (1985)', 'Highlander (1986)', 'Young Frankenstein (1974)', 'Fantasia (1940)', 'Indiana Jones and the Last Crusade (1989)', 'Pink Floyd: The Wall (1982)', 'Austin Powers: International Man of Mystery (1997)', 'Face/Off (1997)', 'Conan the Barbarian (1982)', 'L.A. Confidential (1997)', 'Game, The (1997)', 'Big Lebowski, The (1998)', 'Newton Boys, The (1998)', 'All Quiet on the Western Front (1930)', 'Rocky (1976)', 'Goonies, The (1985)', 'Bambi (1942)', 'Black Cauldron, The (1985)', 'Great Mouse Detective, The (1986)', 'Negotiator, The (1998)', 'Jungle Book, The (1967)', 'Rescuers, The (1977)', 'Rocketeer, The (1991)', 'Indiana Jones and the Temple of Doom (1984)', 'Lord of the Rings, The (1978)', \"Charlotte's Web (1973)\", 'Secret of NIMH, The (1982)', 'American Tail, An (1986)', 'NeverEnding Story, The (1984)', 'Edward Scissorhands (1990)', 'American History X (1998)', 'Enemy of the State (1998)', 'Very Bad Things (1998)', 'Rushmore (1998)', 'Thin Red Line, The (1998)', 'Texas Chainsaw Massacre, The (1974)', 'Crocodile Dundee (1986)', 'Office Space (1999)', 'Planet of the Apes (1968)', 'Lock, Stock & Two Smoking Barrels (1998)', 'Matrix, The (1999)', 'Go (1999)', 'SLC Punk! (1998)', 'Superman II (1980)', 'Wolf Man, The (1941)', 'Run Lola Run (Lola rennt) (1998)', 'South Park: Bigger, Longer and Uncut (1999)', 'Ghostbusters (a.k.a. Ghost Busters) (1984)', 'Iron Giant, The (1999)', 'American Beauty (1999)', 'Excalibur (1981)', \"Gulliver's Travels (1939)\", 'Dirty Dozen, The (1967)', 'Goldfinger (1964)', 'From Russia with Love (1963)', 'Dr. No (1962)', 'Fight Club (1999)', 'Who Framed Roger Rabbit? (1988)', 'Live and Let Die (1973)', 'Thunderball (1965)', 'Spaceballs (1987)', 'Robin Hood (1973)', 'Dogma (1999)', 'Messenger: The Story of Joan of Arc, The (1999)', 'Green Mile, The (1999)', \"Wayne's World (1992)\", 'Scream 3 (2000)', 'JFK (1991)', 'Red Dawn (1984)', 'Good Morning, Vietnam (1987)', 'Grumpy Old Men (1993)', 'Gladiator (2000)', 'Blazing Saddles (1974)', 'Mad Max (1979)', 'Road Warrior, The (Mad Max 2) (1981)', 'Shaft (1971)', 'X-Men (2000)', 'M*A*S*H (a.k.a. MASH) (1970)']\n",
      "\n",
      "\n",
      "recs: ['Grumpier Old Men (1995)', 'Seven (a.k.a. Se7en) (1995)', 'Bottle Rocket (1996)', 'Rob Roy (1995)', 'Canadian Bacon (1995)', 'Pulp Fiction (1994)', 'Tommy Boy (1995)', 'Mask, The (1994)', 'Fugitive, The (1993)', 'Mrs. Doubtfire (1993)']\n",
      "user 2\n",
      "liked: ['Step Brothers (2008)', 'Inside Job (2010)', 'Warrior (2011)', 'Wolf of Wall Street, The (2013)', 'Mad Max: Fury Road (2015)', 'The Jinx: The Life and Deaths of Robert Durst (2015)']\n",
      "\n",
      "\n",
      "recs: ['Toy Story (1995)', 'Grumpier Old Men (1995)', 'Heat (1995)', 'Seven (a.k.a. Se7en) (1995)', 'Usual Suspects, The (1995)', 'From Dusk Till Dawn (1996)', 'Bottle Rocket (1996)', 'Braveheart (1995)', 'Rob Roy (1995)', 'Canadian Bacon (1995)']\n"
     ]
    }
   ],
   "source": [
    "user_recs(recommendations)"
   ]
  },
  {
   "cell_type": "code",
   "execution_count": null,
   "metadata": {},
   "outputs": [],
   "source": []
  }
 ],
 "metadata": {
  "kernelspec": {
   "display_name": "Python 3",
   "language": "python",
   "name": "python3"
  },
  "language_info": {
   "codemirror_mode": {
    "name": "ipython",
    "version": 3
   },
   "file_extension": ".py",
   "mimetype": "text/x-python",
   "name": "python",
   "nbconvert_exporter": "python",
   "pygments_lexer": "ipython3",
   "version": "3.6.4"
  }
 },
 "nbformat": 4,
 "nbformat_minor": 2
}
